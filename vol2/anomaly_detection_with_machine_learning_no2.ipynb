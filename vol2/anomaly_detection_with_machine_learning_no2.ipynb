{
 "cells": [
  {
   "cell_type": "markdown",
   "metadata": {},
   "source": [
    "#### いろいろ内容を飛ばしている、Numpy, Scipyの話はいずれやりますので少々お待ちください\n",
    "Pythonでこういった勉強会ができるのも、これらのすばらしいライブラリがあるためです。  \n",
    "が、これらライブラリの詳細な使い方なども説明していると...正直時間がなんぼあってもたりません。。。すみません。。。  \n",
    "本勉強会の本質は、  \n",
    "『あ、理論は直感的に感覚的に理解しておけばよくて、Python使えば簡単なコードで異常検知ができるんだー』  ですので、あしからず。  \n",
    "  \n",
    "では、今回の本題に入っていきます。"
   ]
  },
  {
   "cell_type": "markdown",
   "metadata": {},
   "source": [
    "### 多変量正規分布に基づく異常検知\n",
    "前回は、1変数のホテリング理論についての全貌をみていきました。  \n",
    "この理論は２つ以上の変数についても拡張が可能となっています。  \n",
    "  \n",
    "ここでも1変数の場合の正規分布による異常検知理論でもそうであったように、正規分布を仮定します。  \n",
    "データが『ひと山でだいたい安定している』ということです。  \n",
    "これは、たんたんと生産を続ける工場の設備の異常を判定する、こというようなイメージになります。"
   ]
  },
  {
   "cell_type": "markdown",
   "metadata": {},
   "source": [
    "1. ステップ1: 多次元正規分布の最尤推定  \n",
    "    多変量正規分布の未知パラメータである$\\mu$と$\\Sigma$を$D$から最尤推定で定めましょう。  \n",
    "    $N$個の観測データに独立性が仮定できるため、$D$に基づく未知のパラメータの対数尤度$L(\\mu, \\Sigma|D)$は次のようになります。  \n",
    "    $$\n",
    "    L(\\mu, \\Sigma|D) = In\\prod_{n=1}^{N} N \\left( x^{(n)}| \\mu, \\Sigma \\right) = \\sum_{n=1}^{N}InN \\left( x^{(n)}| \\mu, \\Sigma \\right)\n",
    "    $$\n",
    "    途中結果は省きます。結論からいうと、$\\mu$の最尤推定の結果と合わせて、尤度が最大化される二つの未知のパラメータをデータ$D$から求めます。\n",
    "  \n",
    "2. ステップ2: 異常度の定義\n",
    "    1変数のときと同様です。  \n",
    "    負の対数尤度$-InN \\left( x^{(n)}| \\hat\\mu, \\hat\\Sigma \\right)$の２倍をもとに次のように定義します。  \n",
    "    $$\n",
    "    a(x^{'}) = (x^{'}-\\hat\\mu)^{T} \\hat\\Sigma^{-1}(x^{'}-\\hat\\mu)\n",
    "    $$\n",
    "    これは、観測データ$x^{'}$が、どれだけ標本平均$\\hat\\mu$から離れているかを表すものです。  \n",
    "    「距離」という側面を強調して、**『マハラノビス距離』**(の２乗)と呼ぶこともあります。  \n",
    "    大雑把にいうと、「ばらつきが大きい方向の変動はおおめに見てあげる」という効果があります。\n",
    "    逆を返せば、「ばらつきが小さい方向の変動は厳しくみる」ということになります。\n",
    "    例えば、２次元のデータであるならば上下左右の方向があります。\n",
    "    横方向にばらつきが大きければ、変化はおおめに見つつ、縦方向にばらつきが少ないのであれば、変化を厳しくみる、といった具合です。\n",
    "  \n",
    "3. 閾値の設定(ホテリングのT^2理論)\n",
    "    この辺りは、また複雑なお話になるので詳細は別途理論編でまとめます。  \n",
    "    が、プログラム上は簡単に設定できます。"
   ]
  },
  {
   "cell_type": "code",
   "execution_count": 34,
   "metadata": {},
   "outputs": [],
   "source": [
    "# 観測データを取得\n",
    "df = pd.read_csv(\"./DATA/Davis.csv\")\n",
    "weight = df[\"weight\"]\n",
    "height = df[\"height\"]"
   ]
  },
  {
   "cell_type": "code",
   "execution_count": 35,
   "metadata": {},
   "outputs": [
    {
     "data": {
      "image/png": "[encoded data removed]",
      "text/plain": [
       "<Figure size 432x288 with 1 Axes>"
      ]
     },
     "metadata": {
      "needs_background": "light"
     },
     "output_type": "display_data"
    }
   ],
   "source": [
    "# 体重-身長をプロット\n",
    "plt.plot(weight, height, \"bo\")\n",
    "plt.title(\"weight vs height\")\n",
    "plt.xlabel(\"weight\")\n",
    "plt.ylabel(\"height\")\n",
    "plt.show()"
   ]
  },
  {
   "cell_type": "code",
   "execution_count": 36,
   "metadata": {},
   "outputs": [
    {
     "name": "stderr",
     "output_type": "stream",
     "text": [
      "/Users/Toki/tmp/Twitter_API/venv/lib/python3.6/site-packages/ipykernel_launcher.py:2: FutureWarning: Method .as_matrix will be removed in a future version. Use .values instead.\n",
      "  \n"
     ]
    }
   ],
   "source": [
    "X = pd.concat([weight, height], axis=1) # 標本数 * 次元数(2)のデータ行列\n",
    "X = X.as_matrix() # numpyのarray型へ変換"
   ]
  },
  {
   "cell_type": "code",
   "execution_count": 37,
   "metadata": {},
   "outputs": [],
   "source": [
    "mx = X.mean(axis=0) # 標本平均\n",
    "Xc = X - mx # 中心化したデータ行列\n",
    "# Sx = (1.0 / len(X)) * Xc.T.dot(Xc) # 標本共分散行列\n",
    "Sx = np.cov(X, rowvar=0, bias=1) # 標本共分散行列\n",
    "a = (Xc.dot(np.linalg.pinv(Sx)) * Xc).sum(axis=1)"
   ]
  },
  {
   "cell_type": "code",
   "execution_count": 38,
   "metadata": {},
   "outputs": [],
   "source": [
    "# 閾値を設定\n",
    "th = chi2.isf(1 - 0.99, 2)  # 自由度2のカイ２乗分布"
   ]
  },
  {
   "cell_type": "code",
   "execution_count": 39,
   "metadata": {},
   "outputs": [
    {
     "data": {
      "image/png": "[encoded data removed]",
      "text/plain": [
       "<Figure size 432x288 with 1 Axes>"
      ]
     },
     "metadata": {
      "needs_background": "light"
     },
     "output_type": "display_data"
    }
   ],
   "source": [
    "# 異常度をプロット\n",
    "plt.plot(range(len(a)), a, \"bo\")\n",
    "plt.axhline(y=th,color='red')\n",
    "plt.show()"
   ]
  },
  {
   "cell_type": "markdown",
   "metadata": {},
   "source": [
    "#### ちょっと丁寧に見ていくと..."
   ]
  },
  {
   "cell_type": "code",
   "execution_count": 2,
   "metadata": {},
   "outputs": [],
   "source": [
    "import matplotlib.pyplot as plt\n",
    "import numpy as np\n",
    "\n",
    "# 2次元の正規分布からデータセットを作成する\n",
    "mean = np.array((0,0)) # 平均値をゼロに設定\n",
    "cov = np.array([(100, 35), (100, 50)]) # 分散共分散行列を設定"
   ]
  },
  {
   "cell_type": "code",
   "execution_count": 3,
   "metadata": {},
   "outputs": [],
   "source": [
    "import numpy as np\n",
    "import matplotlib.pyplot as plt\n",
    "import csv\n",
    "from statistics import mean, variance\n",
    "from scipy import stats"
   ]
  },
  {
   "cell_type": "code",
   "execution_count": 4,
   "metadata": {},
   "outputs": [],
   "source": [
    "# データセットの読み込み\n",
    "num = []\n",
    "data_weight = []\n",
    "data_hight = []\n",
    "data = []\n",
    "with open('./DATA/Davis.csv', 'r', encoding=\"utf-8\") as f:\n",
    "    reader = csv.reader(f)\n",
    "    header = next(reader)\n",
    "\n",
    "    for row in reader:\n",
    "        num.append(int(row[0])) # 標本番号を取得\n",
    "        data_weight = int(row[2]) # 体重データを取得\n",
    "        data_hight = int(row[3]) # 身長データを取得\n",
    "        data.append([data_weight, data_hight])"
   ]
  },
  {
   "cell_type": "code",
   "execution_count": 5,
   "metadata": {},
   "outputs": [
    {
     "data": {
      "text/plain": [
       "200"
      ]
     },
     "execution_count": 5,
     "metadata": {},
     "output_type": "execute_result"
    }
   ],
   "source": [
    "len(data)"
   ]
  },
  {
   "cell_type": "code",
   "execution_count": 6,
   "metadata": {},
   "outputs": [
    {
     "data": {
      "text/plain": [
       "array([[ 77, 182],\n",
       "       [ 58, 161],\n",
       "       [ 53, 161],\n",
       "       [ 68, 177],\n",
       "       [ 59, 157],\n",
       "       [ 76, 170],\n",
       "       [ 76, 167],\n",
       "       [ 69, 186],\n",
       "       [ 71, 178],\n",
       "       [ 65, 171],\n",
       "       [ 70, 175],\n",
       "       [166,  57],\n",
       "       [ 51, 161],\n",
       "       [ 64, 168],\n",
       "       [ 52, 163],\n",
       "       [ 65, 166],\n",
       "       [ 92, 187],\n",
       "       [ 62, 168],\n",
       "       [ 76, 197],\n",
       "       [ 61, 175],\n",
       "       [119, 180],\n",
       "       [ 61, 170],\n",
       "       [ 65, 175],\n",
       "       [ 66, 173],\n",
       "       [ 54, 171],\n",
       "       [ 50, 166],\n",
       "       [ 63, 169],\n",
       "       [ 58, 166],\n",
       "       [ 39, 157],\n",
       "       [101, 183],\n",
       "       [ 71, 166],\n",
       "       [ 75, 178],\n",
       "       [ 79, 173],\n",
       "       [ 52, 164],\n",
       "       [ 68, 169],\n",
       "       [ 64, 176],\n",
       "       [ 56, 166],\n",
       "       [ 69, 174],\n",
       "       [ 88, 178],\n",
       "       [ 65, 187],\n",
       "       [ 54, 164],\n",
       "       [ 80, 178],\n",
       "       [ 63, 163],\n",
       "       [ 78, 183],\n",
       "       [ 85, 179],\n",
       "       [ 54, 160],\n",
       "       [ 73, 180],\n",
       "       [ 49, 161],\n",
       "       [ 54, 174],\n",
       "       [ 75, 162],\n",
       "       [ 82, 182],\n",
       "       [ 56, 165],\n",
       "       [ 74, 169],\n",
       "       [102, 185],\n",
       "       [ 64, 177],\n",
       "       [ 65, 176],\n",
       "       [ 66, 170],\n",
       "       [ 73, 183],\n",
       "       [ 75, 172],\n",
       "       [ 57, 173],\n",
       "       [ 68, 165],\n",
       "       [ 71, 177],\n",
       "       [ 71, 180],\n",
       "       [ 78, 173],\n",
       "       [ 97, 189],\n",
       "       [ 60, 162],\n",
       "       [ 64, 165],\n",
       "       [ 64, 164],\n",
       "       [ 52, 158],\n",
       "       [ 80, 178],\n",
       "       [ 62, 175],\n",
       "       [ 66, 173],\n",
       "       [ 55, 165],\n",
       "       [ 56, 163],\n",
       "       [ 50, 166],\n",
       "       [ 50, 171],\n",
       "       [ 50, 160],\n",
       "       [ 63, 160],\n",
       "       [ 69, 182],\n",
       "       [ 69, 183],\n",
       "       [ 61, 165],\n",
       "       [ 55, 168],\n",
       "       [ 53, 169],\n",
       "       [ 60, 167],\n",
       "       [ 56, 170],\n",
       "       [ 59, 182],\n",
       "       [ 62, 178],\n",
       "       [ 53, 165],\n",
       "       [ 57, 163],\n",
       "       [ 57, 162],\n",
       "       [ 70, 173],\n",
       "       [ 56, 161],\n",
       "       [ 84, 184],\n",
       "       [ 69, 180],\n",
       "       [ 88, 189],\n",
       "       [ 56, 165],\n",
       "       [103, 185],\n",
       "       [ 50, 169],\n",
       "       [ 52, 159],\n",
       "       [ 55, 155],\n",
       "       [ 55, 164],\n",
       "       [ 63, 178],\n",
       "       [ 47, 163],\n",
       "       [ 45, 163],\n",
       "       [ 62, 175],\n",
       "       [ 53, 164],\n",
       "       [ 52, 152],\n",
       "       [ 57, 167],\n",
       "       [ 64, 166],\n",
       "       [ 59, 166],\n",
       "       [ 84, 183],\n",
       "       [ 79, 179],\n",
       "       [ 55, 174],\n",
       "       [ 67, 179],\n",
       "       [ 76, 167],\n",
       "       [ 62, 168],\n",
       "       [ 83, 184],\n",
       "       [ 96, 184],\n",
       "       [ 75, 169],\n",
       "       [ 65, 178],\n",
       "       [ 78, 178],\n",
       "       [ 69, 167],\n",
       "       [ 68, 178],\n",
       "       [ 55, 165],\n",
       "       [ 67, 179],\n",
       "       [ 52, 169],\n",
       "       [ 47, 153],\n",
       "       [ 45, 157],\n",
       "       [ 68, 171],\n",
       "       [ 44, 157],\n",
       "       [ 62, 166],\n",
       "       [ 87, 185],\n",
       "       [ 56, 160],\n",
       "       [ 50, 148],\n",
       "       [ 83, 177],\n",
       "       [ 53, 162],\n",
       "       [ 64, 172],\n",
       "       [ 62, 167],\n",
       "       [ 90, 188],\n",
       "       [ 85, 191],\n",
       "       [ 66, 175],\n",
       "       [ 52, 163],\n",
       "       [ 53, 165],\n",
       "       [ 54, 176],\n",
       "       [ 64, 171],\n",
       "       [ 55, 160],\n",
       "       [ 55, 165],\n",
       "       [ 59, 157],\n",
       "       [ 70, 173],\n",
       "       [ 88, 184],\n",
       "       [ 57, 168],\n",
       "       [ 47, 162],\n",
       "       [ 47, 150],\n",
       "       [ 55, 162],\n",
       "       [ 48, 163],\n",
       "       [ 54, 169],\n",
       "       [ 69, 172],\n",
       "       [ 59, 170],\n",
       "       [ 58, 169],\n",
       "       [ 57, 167],\n",
       "       [ 51, 163],\n",
       "       [ 54, 161],\n",
       "       [ 53, 162],\n",
       "       [ 59, 172],\n",
       "       [ 56, 163],\n",
       "       [ 59, 159],\n",
       "       [ 63, 170],\n",
       "       [ 66, 166],\n",
       "       [ 96, 191],\n",
       "       [ 53, 158],\n",
       "       [ 76, 169],\n",
       "       [ 54, 163],\n",
       "       [ 61, 170],\n",
       "       [ 82, 176],\n",
       "       [ 62, 168],\n",
       "       [ 71, 178],\n",
       "       [ 60, 174],\n",
       "       [ 66, 170],\n",
       "       [ 81, 178],\n",
       "       [ 68, 174],\n",
       "       [ 80, 176],\n",
       "       [ 43, 154],\n",
       "       [ 82, 181],\n",
       "       [ 63, 165],\n",
       "       [ 70, 173],\n",
       "       [ 56, 162],\n",
       "       [ 60, 172],\n",
       "       [ 58, 169],\n",
       "       [ 76, 183],\n",
       "       [ 50, 158],\n",
       "       [ 88, 185],\n",
       "       [ 89, 173],\n",
       "       [ 59, 164],\n",
       "       [ 51, 156],\n",
       "       [ 62, 164],\n",
       "       [ 74, 175],\n",
       "       [ 83, 180],\n",
       "       [ 81, 175],\n",
       "       [ 90, 181],\n",
       "       [ 79, 177]])"
      ]
     },
     "execution_count": 6,
     "metadata": {},
     "output_type": "execute_result"
    }
   ],
   "source": [
    "np.array(data)"
   ]
  },
  {
   "cell_type": "code",
   "execution_count": 7,
   "metadata": {},
   "outputs": [
    {
     "data": {
      "image/png": "[encoded data removed]",
      "text/plain": [
       "<Figure size 576x360 with 1 Axes>"
      ]
     },
     "metadata": {
      "needs_background": "light"
     },
     "output_type": "display_data"
    }
   ],
   "source": [
    "# データセットの分布を可視化\n",
    "fig = plt.figure(figsize=(8,5))\n",
    "ax = fig.add_subplot(111)\n",
    "ax.grid()\n",
    "ax.plot(np.array(data).T[0], np.array(data).T[1], 'x', alpha=0.9)\n",
    "ax.set_title(\"Anomary Value\")\n",
    "ax.set_xlabel('Weight')\n",
    "ax.set_ylabel('Hight')\n",
    "plt.show()"
   ]
  },
  {
   "cell_type": "code",
   "execution_count": 8,
   "metadata": {},
   "outputs": [],
   "source": [
    "# 標本の平均を計算\n",
    "mu = np.array(data).mean(axis=0)\n",
    "# 標本の分散共分散行列を計算\n",
    "cov2 = np.cov(np.array(data).T)"
   ]
  },
  {
   "cell_type": "code",
   "execution_count": 9,
   "metadata": {},
   "outputs": [
    {
     "name": "stdout",
     "output_type": "stream",
     "text": [
      "母集団の平均\n",
      "<function mean at 0x10dc221e0>\n",
      "標本平均\n",
      "[ 65.8  170.02]\n",
      "母集団の分散共分散行列\n",
      "[[100  35]\n",
      " [100  50]]\n",
      "標本による分散共分散行列\n",
      "[[227.85929648  34.3758794 ]\n",
      " [ 34.3758794  144.19055276]]\n"
     ]
    }
   ],
   "source": [
    "print(\"母集団の平均\")\n",
    "print(mean)\n",
    "print(\"標本平均\")\n",
    "print(mu)\n",
    "print(\"母集団の分散共分散行列\")\n",
    "print(cov)\n",
    "print(\"標本による分散共分散行列\")\n",
    "print(cov2)"
   ]
  },
  {
   "cell_type": "code",
   "execution_count": 10,
   "metadata": {},
   "outputs": [
    {
     "data": {
      "text/plain": [
       "[55, 164]"
      ]
     },
     "execution_count": 10,
     "metadata": {},
     "output_type": "execute_result"
    }
   ],
   "source": [
    "data[100]"
   ]
  },
  {
   "cell_type": "code",
   "execution_count": 11,
   "metadata": {},
   "outputs": [
    {
     "name": "stdout",
     "output_type": "stream",
     "text": [
      "異常度 = 0.65\n"
     ]
    }
   ],
   "source": [
    "from scipy.spatial import distance\n",
    "from scipy.stats import chi2\n",
    "\n",
    "# 分散共分散行列の逆行列を計算\n",
    "cov_i = np.linalg.pinv(cov2)\n",
    "\n",
    "# 異常度を計算したい点を設定\n",
    "x = data[100]\n",
    "\n",
    "# 異常度を計算 (マハラノビス距離の2乗値を計算)\n",
    "anomaly_score = distance.mahalanobis(x, mu, cov_i)**2\n",
    "\n",
    "# 異常度を表示\n",
    "print(\"異常度 = %.2f\" % anomaly_score)"
   ]
  },
  {
   "cell_type": "code",
   "execution_count": 12,
   "metadata": {},
   "outputs": [],
   "source": [
    "# データセット (変数X) に含まれる全データについて異常度を計算\n",
    "anomaly_scores = np.array([distance.mahalanobis(x, mu, cov_i)**2 for x in np.array(data)])"
   ]
  },
  {
   "cell_type": "code",
   "execution_count": 13,
   "metadata": {
    "scrolled": true
   },
   "outputs": [
    {
     "data": {
      "text/plain": [
       "array([1.31229390e+00, 7.09558736e-01, 1.08056095e+00, 3.39196520e-01,\n",
       "       1.23785556e+00, 4.74078396e-01, 6.06109473e-01, 1.77268502e+00,\n",
       "       4.91141867e-01, 1.15244573e-02, 2.13317773e-01, 1.62180931e+02,\n",
       "       1.29269557e+00, 3.62118059e-02, 1.01120162e+00, 1.12190901e-01,\n",
       "       4.23347031e+00, 7.84293981e-02, 5.11295017e+00, 3.35188992e-01,\n",
       "       1.24484664e+01, 1.04682016e-01, 1.89975811e-01, 6.27741165e-02,\n",
       "       6.65887973e-01, 1.11485117e+00, 3.69761889e-02, 3.25164080e-01,\n",
       "       3.73183952e+00, 5.86091014e+00, 2.84730421e-01, 6.84073751e-01,\n",
       "       7.71713191e-01, 9.47346542e-01, 3.43892377e-02, 2.95375429e-01,\n",
       "       4.67956935e-01, 1.32927431e-01, 2.31718492e+00, 2.10658059e+00,\n",
       "       7.40397703e-01, 1.13009704e+00, 3.47548633e-01, 1.54589674e+00,\n",
       "       1.88407496e+00, 1.09951131e+00, 7.96549903e-01, 1.54124947e+00,\n",
       "       8.49775656e-01, 1.00819653e+00, 1.80595254e+00, 5.11718524e-01,\n",
       "       3.31743938e-01, 6.40291199e+00, 3.92517010e-01, 2.70558721e-01,\n",
       "       1.93656565e-04, 1.24518771e+00, 3.73978944e-01, 4.73347267e-01,\n",
       "       2.27298275e-01, 3.94806757e-01, 7.26976170e-01, 6.62550499e-01,\n",
       "       5.73766972e+00, 5.14895313e-01, 1.76427914e-01, 2.51942673e-01,\n",
       "       1.54629742e+00, 1.13009704e+00, 2.85228468e-01, 6.27741165e-02,\n",
       "       5.94601538e-01, 6.42405787e-01, 1.11485117e+00, 1.17698293e+00,\n",
       "       1.51509799e+00, 6.97073238e-01, 9.95890704e-01, 1.16850724e+00,\n",
       "       2.33875747e-01, 5.12992783e-01, 7.25011550e-01, 1.80734372e-01,\n",
       "       4.36790861e-01, 1.41982045e+00, 5.89677065e-01, 7.87682024e-01,\n",
       "       5.72968878e-01, 6.62065195e-01, 1.17022466e-01, 8.30645163e-01,\n",
       "       2.36165154e+00, 6.93821716e-01, 3.92057080e+00, 5.11718524e-01,\n",
       "       6.70454264e+00, 1.10896614e+00, 1.41050220e+00, 1.80185256e+00,\n",
       "       6.50580512e-01, 5.42309432e-01, 1.67705484e+00, 2.00712987e+00,\n",
       "       2.85228468e-01, 8.39319713e-01, 2.66321731e+00, 3.60463894e-01,\n",
       "       1.15301183e-01, 2.67424882e-01, 2.20720662e+00, 1.11604074e+00,\n",
       "       7.38252039e-01, 5.63292802e-01, 6.06109473e-01, 7.84293981e-02,\n",
       "       2.23084183e+00, 4.64154409e+00, 4.13169922e-01, 4.74888624e-01,\n",
       "       9.24373268e-01, 1.33206054e-01, 4.42043558e-01, 5.94601538e-01,\n",
       "       5.63292802e-01, 8.43891593e-01, 2.99841501e+00, 2.60124192e+00,\n",
       "       2.42628885e-02, 2.76691280e+00, 1.48836204e-01, 2.97103064e+00,\n",
       "       9.46346894e-01, 3.86949868e+00, 1.43668146e+00, 9.85759176e-01,\n",
       "       5.06893912e-02, 1.06438787e-01, 4.04727562e+00, 3.97035084e+00,\n",
       "       1.76434565e-01, 1.01120162e+00, 7.87682024e-01, 1.04430759e+00,\n",
       "       2.54879525e-02, 1.01837669e+00, 5.94601538e-01, 1.23785556e+00,\n",
       "       1.17022466e-01, 2.97593861e+00, 3.43307719e-01, 1.74444473e+00,\n",
       "       3.67538961e+00, 8.05702547e-01, 1.52567456e+00, 6.15236326e-01,\n",
       "       6.10668963e-02, 2.10211096e-01, 2.67183626e-01, 3.60463894e-01,\n",
       "       1.12616262e+00, 9.88150869e-01, 9.85759176e-01, 2.67932372e-01,\n",
       "       6.42405787e-01, 9.21488097e-01, 3.55722138e-02, 1.18185439e-01,\n",
       "       5.94318936e+00, 1.45129444e+00, 5.03700727e-01, 8.08594063e-01,\n",
       "       1.04682016e-01, 1.24171205e+00, 7.84293981e-02, 4.91141867e-01,\n",
       "       3.17206241e-01, 1.93656565e-04, 1.24661616e+00, 1.16983577e-01,\n",
       "       9.90886422e-01, 3.41995906e+00, 1.67594238e+00, 1.86472372e-01,\n",
       "       1.17022466e-01, 7.29331461e-01, 2.06274137e-01, 2.67183626e-01,\n",
       "       1.39829867e+00, 1.76361782e+00, 3.13608900e+00, 2.36410518e+00,\n",
       "       3.82359945e-01, 1.96081844e+00, 2.76795124e-01, 3.95878092e-01,\n",
       "       1.69070773e+00, 1.06589420e+00, 2.95661195e+00, 9.43712778e-01])"
      ]
     },
     "execution_count": 13,
     "metadata": {},
     "output_type": "execute_result"
    }
   ],
   "source": [
    "anomaly_scores"
   ]
  },
  {
   "cell_type": "code",
   "execution_count": 14,
   "metadata": {},
   "outputs": [
    {
     "name": "stderr",
     "output_type": "stream",
     "text": [
      "findfont: Font family ['IPAexGothic'] not found. Falling back to DejaVu Sans.\n"
     ]
    },
    {
     "data": {
      "image/png": "[encoded data removed]",
      "text/plain": [
       "<Figure size 1440x360 with 1 Axes>"
      ]
     },
     "metadata": {
      "needs_background": "light"
     },
     "output_type": "display_data"
    }
   ],
   "source": [
    "import matplotlib.pyplot as plt\n",
    "import matplotlib as mpl\n",
    "from scipy.stats import chi2\n",
    "import numpy as np\n",
    "\n",
    "# 日本語フォント設定\n",
    "font = {'family':'IPAexGothic'}\n",
    "mpl.rc('font', **font)\n",
    "\n",
    "# 自由度\n",
    "m = 3\n",
    "\n",
    "plt.rcParams[\"font.size\"] = 18\n",
    "plt.figure(figsize=(20,5))\n",
    "\n",
    "# カイ二乗分布の確率密度関数を可視化\n",
    "chi_pdf = np.array([(x, chi2.pdf(x, m)) for x in np.linspace(0, 8, 100)])\n",
    "plt.plot(chi_pdf[:,0], chi_pdf[:,1])\n",
    "\n",
    "x1 = np.arange(6.25, 8, 0.01)\n",
    "y1 = chi2.pdf(x1, m)\n",
    "y2 = np.zeros(x1.shape)\n",
    "plt.fill_between(x1, y1, y2, where=y1>y2, facecolor='blue')\n",
    "plt.annotate(\"$a(x')=6.25\",\n",
    "             xy=(6.25, 0.05), xytext=(5.55, 0.20), arrowprops=dict())\n",
    "plt.annotate(\"$p=10\\%$\",\n",
    "             xy=(7.4, 0.035), xytext=(6.55, 0.1), arrowprops=dict())\n",
    "plt.xlabel(\"anomaly $a(x')$\")\n",
    "plt.ylabel(\"dim $f(a(x'), %d)$\" % m)\n",
    "\n",
    "plt.show()"
   ]
  },
  {
   "cell_type": "code",
   "execution_count": 15,
   "metadata": {},
   "outputs": [
    {
     "name": "stdout",
     "output_type": "stream",
     "text": [
      "自由度 3 で異常検知される確率を 10.00 %に設定したければ，閾値は 6.25\n"
     ]
    }
   ],
   "source": [
    "m = 3    # 自由度 (特徴量の次元) を設定\n",
    "p = 0.1  # 異常検知される確率を設定\n",
    "threshold = chi2.isf(p, m)  # 異常検知の閾値を計算\n",
    "\n",
    "print(\"自由度 %d で異常検知される確率を %1.2f %%に設定したければ，閾値は %1.2f\" % (m, 100 * p, threshold))"
   ]
  },
  {
   "cell_type": "code",
   "execution_count": 16,
   "metadata": {},
   "outputs": [
    {
     "data": {
      "image/png": "[encoded data removed]",
      "text/plain": [
       "<Figure size 432x288 with 1 Axes>"
      ]
     },
     "metadata": {
      "needs_background": "light"
     },
     "output_type": "display_data"
    }
   ],
   "source": [
    "# 可視化したい「異常検知される確率」の値を設定\n",
    "probs = [0.1, 0.05, 0.01]\n",
    "\n",
    "# 確率に対応する等高線の値を計算\n",
    "levels = [chi2.isf(x, np.array(data).shape[-1]) for x in probs]\n",
    "\n",
    "# 表示範囲の指定\n",
    "r = 250\n",
    "\n",
    "# z軸値(異常度)を計算\n",
    "z = np.array(\n",
    "    [\n",
    "        [(i, j, distance.mahalanobis([i,j], mu, cov_i)**2)\n",
    "         for i in np.linspace(-r, r, 100)]\n",
    "         for j in np.linspace(-r, r, 100)]\n",
    ")\n",
    "\n",
    "# グラフ描画\n",
    "myfig = plt.figure()\n",
    "myax = myfig.add_subplot(1, 1, 1)\n",
    "myax.set_aspect('equal')\n",
    "plt.ylim(120, 220)\n",
    "plt.xlim(0, 150)\n",
    "\n",
    "# 等高線図を描画\n",
    "cont = plt.contour(z.transpose()[0], z.transpose()[1], z.transpose()[2], levels=levels, colors=['k'], alpha=0.3)\n",
    "\n",
    "# 散布図の描画\n",
    "plt.plot(np.array(data)[:,0], np.array(data)[:,1], '.', alpha=0.9)\n",
    "plt.show()"
   ]
  },
  {
   "cell_type": "code",
   "execution_count": 17,
   "metadata": {},
   "outputs": [
    {
     "name": "stdout",
     "output_type": "stream",
     "text": [
      "異常と判定される閾値は 6.251...です\n"
     ]
    }
   ],
   "source": [
    "print(f'異常と判定される閾値は {round(threshold,3)}...です')"
   ]
  },
  {
   "cell_type": "code",
   "execution_count": 18,
   "metadata": {},
   "outputs": [
    {
     "name": "stdout",
     "output_type": "stream",
     "text": [
      "[166  57]は異常なデータです...そのときの値は 162.181...です\n",
      "[119 180]は異常なデータです...そのときの値は 12.448...です\n",
      "[102 185]は異常なデータです...そのときの値は 6.403...です\n",
      "[103 185]は異常なデータです...そのときの値は 6.705...です\n"
     ]
    }
   ],
   "source": [
    "anomaly_data = np.array([print(f'{x}は異常なデータです...そのときの値は {round(distance.mahalanobis(x, mu, cov_i)**2, 3)}...です') \n",
    "                         for x in np.array(data) if distance.mahalanobis(x, mu, cov_i)**2 > threshold])"
   ]
  },
  {
   "cell_type": "code",
   "execution_count": 19,
   "metadata": {},
   "outputs": [
    {
     "data": {
      "image/png": "[encoded data removed]",
      "text/plain": [
       "<Figure size 432x288 with 1 Axes>"
      ]
     },
     "metadata": {
      "needs_background": "light"
     },
     "output_type": "display_data"
    }
   ],
   "source": [
    "# 異常検知の実施\n",
    "##  異常検知される確率を1%に設定\n",
    "p = 0.01\n",
    "\n",
    "## 確率に対応する異常度の閾値を計算\n",
    "threshold = chi2.isf(p, np.array(data).shape[-1])\n",
    "\n",
    "## データセットについて異常検知を実施\n",
    "anomaly_data = np.array([x for x in np.array(data) if distance.mahalanobis(x, mu, cov_i)**2 > threshold])\n",
    "\n",
    "## 可視化用に正常データのみを含むリストも作る\n",
    "normal_data = np.array([x for x in np.array(data) if distance.mahalanobis(x, mu, cov_i)**2 <= threshold])\n",
    "\n",
    "# 散布図として異常検知結果を可視化する\n",
    "## 表示範囲の指定\n",
    "r = 250\n",
    "\n",
    "## z軸値(異常度)を計算\n",
    "z = np.array(\n",
    "    [\n",
    "        [(i, j, distance.mahalanobis([i,j], mu, cov_i)**2)\n",
    "         for i in np.linspace(-r, r, 100)]\n",
    "         for j in np.linspace(-r, r, 100)]\n",
    ")\n",
    "\n",
    "## グラフ描画\n",
    "myfig = plt.figure()\n",
    "myax = myfig.add_subplot(1, 1, 1)\n",
    "myax.set_aspect('equal')\n",
    "plt.ylim(120, 240)\n",
    "plt.xlim(0, 150)\n",
    "\n",
    "## 等高線図を描画\n",
    "cont = plt.contour(z.transpose()[0], z.transpose()[1], z.transpose()[2], levels=[threshold], colors=['k'], alpha=0.3)\n",
    "\n",
    "## 散布図の描画\n",
    "plt.plot(normal_data[:,0], normal_data[:,1], '.', alpha=0.9)\n",
    "plt.plot(anomaly_data[:,0], anomaly_data[:,1], '.', alpha=0.9)\n",
    "plt.show()"
   ]
  },
  {
   "cell_type": "markdown",
   "metadata": {},
   "source": [
    "### マハラノビス・タグチ法\n",
    "多変数のホテリング理論で計算されるのは、全体の系の総合的な異常度であって個別の異常ではありません。  \n",
    "マハラノビス・タグチ法は、ホテリング統計量(またはマハラノビス距離)に基づく外れ値検出手法に、異常変数の選択手法を組み合わせることで、  \n",
    "この問題を解決しています。  \n",
    "マハラノビス・タグチ法は、MT法やMTシステムとも呼ばれます。  \n",
    "MT法には様々な種類の派生型がありますが、TaguchiおよびJugulumで述べられている内容を要約すると次のようになります。  \n",
    "  \n",
    "正常データが圧倒的多数だと信じられているデータセット$D={x^{1}, ... , x^{N}}$と、  \n",
    "異常と判明しているデータセット$D^{'}={x^{'(1)}, ... , x^{'N^{'}}}$を用意する。変数の数は共に$M$(したがってデータセットは$M$次元)とする。\n",
    "  \n",
    "1) 分布推定: $D$をもとに、標本平均と標本分散を求める。  \n",
    "2) 異常度の計算: $D$の中の各標本に対して、1変数あたりのマハラノビス距離($M$次元であるから$M$で割る)を計算する。  \n",
    "3) 異常判定1: $D$の標本が正常範囲に入るように1変数あたりのマハラノビス距離の閾値を決める。  \n",
    "4) 異常判定2: $D^{'}$の各標本に対して、M変数の中からいくつかの変数を選び、その変数集合の１変数あたりの異常度を計算する。  \n",
    "  "
   ]
  },
  {
   "cell_type": "markdown",
   "metadata": {},
   "source": [
    "最後のステップで、個々の変数の寄与が数値化されて、「何が悪さをしていたのか」という質問に一応答えることが可能となります。"
   ]
  },
  {
   "cell_type": "markdown",
   "metadata": {},
   "source": [
    "**[Rdatasets](https://vincentarelbundock.github.io/Rdatasets/datasets.html)**  \n",
    "これのうちの、今回は\"road.csv\"を利用します。  \n",
    "このデータは、26州について、交通事故死亡者数\"deaths\", 運転者数\"drivers\", 人口密度\"popden\", 郊外地区の道路長\"rural\",   \n",
    "1月における1日の最高気温の平均値\"temp\", 1年ごとの燃料消費量\"fuel\"という６つの変数を記録したデータとなります。"
   ]
  },
  {
   "cell_type": "code",
   "execution_count": 40,
   "metadata": {},
   "outputs": [],
   "source": [
    "import numpy as np\n",
    "import pandas as pd\n",
    "from matplotlib import pyplot as plt\n",
    "from scipy.stats import chi2"
   ]
  },
  {
   "cell_type": "code",
   "execution_count": 41,
   "metadata": {},
   "outputs": [
    {
     "data": {
      "text/html": [
       "<div>\n",
       "<style scoped>\n",
       "    .dataframe tbody tr th:only-of-type {\n",
       "        vertical-align: middle;\n",
       "    }\n",
       "\n",
       "    .dataframe tbody tr th {\n",
       "        vertical-align: top;\n",
       "    }\n",
       "\n",
       "    .dataframe thead th {\n",
       "        text-align: right;\n",
       "    }\n",
       "</style>\n",
       "<table border=\"1\" class=\"dataframe\">\n",
       "  <thead>\n",
       "    <tr style=\"text-align: right;\">\n",
       "      <th></th>\n",
       "      <th>deaths</th>\n",
       "      <th>drivers</th>\n",
       "      <th>popden</th>\n",
       "      <th>rural</th>\n",
       "      <th>temp</th>\n",
       "      <th>fuel</th>\n",
       "    </tr>\n",
       "  </thead>\n",
       "  <tbody>\n",
       "    <tr>\n",
       "      <th>Alabama</th>\n",
       "      <td>968</td>\n",
       "      <td>158</td>\n",
       "      <td>64.0</td>\n",
       "      <td>66.0</td>\n",
       "      <td>62</td>\n",
       "      <td>119.0</td>\n",
       "    </tr>\n",
       "    <tr>\n",
       "      <th>Alaska</th>\n",
       "      <td>43</td>\n",
       "      <td>11</td>\n",
       "      <td>0.4</td>\n",
       "      <td>5.9</td>\n",
       "      <td>30</td>\n",
       "      <td>6.2</td>\n",
       "    </tr>\n",
       "    <tr>\n",
       "      <th>Arizona</th>\n",
       "      <td>588</td>\n",
       "      <td>91</td>\n",
       "      <td>12.0</td>\n",
       "      <td>33.0</td>\n",
       "      <td>64</td>\n",
       "      <td>65.0</td>\n",
       "    </tr>\n",
       "    <tr>\n",
       "      <th>Arkanas</th>\n",
       "      <td>640</td>\n",
       "      <td>92</td>\n",
       "      <td>34.0</td>\n",
       "      <td>73.0</td>\n",
       "      <td>51</td>\n",
       "      <td>74.0</td>\n",
       "    </tr>\n",
       "    <tr>\n",
       "      <th>Calif</th>\n",
       "      <td>4743</td>\n",
       "      <td>952</td>\n",
       "      <td>100.0</td>\n",
       "      <td>118.0</td>\n",
       "      <td>65</td>\n",
       "      <td>105.0</td>\n",
       "    </tr>\n",
       "    <tr>\n",
       "      <th>Colo</th>\n",
       "      <td>566</td>\n",
       "      <td>109</td>\n",
       "      <td>17.0</td>\n",
       "      <td>73.0</td>\n",
       "      <td>42</td>\n",
       "      <td>78.0</td>\n",
       "    </tr>\n",
       "    <tr>\n",
       "      <th>Conn</th>\n",
       "      <td>325</td>\n",
       "      <td>167</td>\n",
       "      <td>518.0</td>\n",
       "      <td>5.1</td>\n",
       "      <td>37</td>\n",
       "      <td>95.0</td>\n",
       "    </tr>\n",
       "    <tr>\n",
       "      <th>Dela</th>\n",
       "      <td>118</td>\n",
       "      <td>30</td>\n",
       "      <td>226.0</td>\n",
       "      <td>3.4</td>\n",
       "      <td>41</td>\n",
       "      <td>20.0</td>\n",
       "    </tr>\n",
       "    <tr>\n",
       "      <th>DC</th>\n",
       "      <td>115</td>\n",
       "      <td>35</td>\n",
       "      <td>12524.0</td>\n",
       "      <td>0.0</td>\n",
       "      <td>44</td>\n",
       "      <td>23.0</td>\n",
       "    </tr>\n",
       "    <tr>\n",
       "      <th>Florida</th>\n",
       "      <td>1545</td>\n",
       "      <td>298</td>\n",
       "      <td>91.0</td>\n",
       "      <td>57.0</td>\n",
       "      <td>67</td>\n",
       "      <td>216.0</td>\n",
       "    </tr>\n",
       "    <tr>\n",
       "      <th>Georgia</th>\n",
       "      <td>1302</td>\n",
       "      <td>203</td>\n",
       "      <td>68.0</td>\n",
       "      <td>83.0</td>\n",
       "      <td>54</td>\n",
       "      <td>162.0</td>\n",
       "    </tr>\n",
       "    <tr>\n",
       "      <th>Idaho</th>\n",
       "      <td>262</td>\n",
       "      <td>41</td>\n",
       "      <td>8.1</td>\n",
       "      <td>40.0</td>\n",
       "      <td>36</td>\n",
       "      <td>29.0</td>\n",
       "    </tr>\n",
       "    <tr>\n",
       "      <th>Ill</th>\n",
       "      <td>2207</td>\n",
       "      <td>544</td>\n",
       "      <td>180.0</td>\n",
       "      <td>102.0</td>\n",
       "      <td>33</td>\n",
       "      <td>350.0</td>\n",
       "    </tr>\n",
       "    <tr>\n",
       "      <th>Ind</th>\n",
       "      <td>1410</td>\n",
       "      <td>254</td>\n",
       "      <td>129.0</td>\n",
       "      <td>89.0</td>\n",
       "      <td>37</td>\n",
       "      <td>196.0</td>\n",
       "    </tr>\n",
       "    <tr>\n",
       "      <th>Iowa</th>\n",
       "      <td>833</td>\n",
       "      <td>150</td>\n",
       "      <td>49.0</td>\n",
       "      <td>100.0</td>\n",
       "      <td>30</td>\n",
       "      <td>109.0</td>\n",
       "    </tr>\n",
       "    <tr>\n",
       "      <th>Kansas</th>\n",
       "      <td>669</td>\n",
       "      <td>136</td>\n",
       "      <td>27.0</td>\n",
       "      <td>124.0</td>\n",
       "      <td>42</td>\n",
       "      <td>94.0</td>\n",
       "    </tr>\n",
       "    <tr>\n",
       "      <th>Kent</th>\n",
       "      <td>911</td>\n",
       "      <td>147</td>\n",
       "      <td>76.0</td>\n",
       "      <td>65.0</td>\n",
       "      <td>44</td>\n",
       "      <td>104.0</td>\n",
       "    </tr>\n",
       "    <tr>\n",
       "      <th>Louis</th>\n",
       "      <td>1037</td>\n",
       "      <td>146</td>\n",
       "      <td>72.0</td>\n",
       "      <td>40.0</td>\n",
       "      <td>65</td>\n",
       "      <td>109.0</td>\n",
       "    </tr>\n",
       "    <tr>\n",
       "      <th>Maine</th>\n",
       "      <td>1196</td>\n",
       "      <td>46</td>\n",
       "      <td>31.0</td>\n",
       "      <td>19.0</td>\n",
       "      <td>30</td>\n",
       "      <td>37.0</td>\n",
       "    </tr>\n",
       "    <tr>\n",
       "      <th>Maryl</th>\n",
       "      <td>616</td>\n",
       "      <td>157</td>\n",
       "      <td>314.0</td>\n",
       "      <td>29.0</td>\n",
       "      <td>44</td>\n",
       "      <td>113.0</td>\n",
       "    </tr>\n",
       "    <tr>\n",
       "      <th>Mass</th>\n",
       "      <td>766</td>\n",
       "      <td>255</td>\n",
       "      <td>655.0</td>\n",
       "      <td>17.0</td>\n",
       "      <td>37</td>\n",
       "      <td>166.0</td>\n",
       "    </tr>\n",
       "    <tr>\n",
       "      <th>Mich</th>\n",
       "      <td>2120</td>\n",
       "      <td>403</td>\n",
       "      <td>137.0</td>\n",
       "      <td>95.0</td>\n",
       "      <td>33</td>\n",
       "      <td>306.0</td>\n",
       "    </tr>\n",
       "    <tr>\n",
       "      <th>Minn</th>\n",
       "      <td>841</td>\n",
       "      <td>189</td>\n",
       "      <td>43.0</td>\n",
       "      <td>110.0</td>\n",
       "      <td>22</td>\n",
       "      <td>132.0</td>\n",
       "    </tr>\n",
       "    <tr>\n",
       "      <th>Miss</th>\n",
       "      <td>648</td>\n",
       "      <td>85</td>\n",
       "      <td>46.0</td>\n",
       "      <td>59.0</td>\n",
       "      <td>57</td>\n",
       "      <td>77.0</td>\n",
       "    </tr>\n",
       "    <tr>\n",
       "      <th>Mo</th>\n",
       "      <td>1289</td>\n",
       "      <td>234</td>\n",
       "      <td>63.0</td>\n",
       "      <td>100.0</td>\n",
       "      <td>40</td>\n",
       "      <td>180.0</td>\n",
       "    </tr>\n",
       "    <tr>\n",
       "      <th>Mont</th>\n",
       "      <td>259</td>\n",
       "      <td>38</td>\n",
       "      <td>4.6</td>\n",
       "      <td>72.0</td>\n",
       "      <td>29</td>\n",
       "      <td>31.0</td>\n",
       "    </tr>\n",
       "  </tbody>\n",
       "</table>\n",
       "</div>"
      ],
      "text/plain": [
       "         deaths  drivers   popden  rural  temp   fuel\n",
       "Alabama     968      158     64.0   66.0    62  119.0\n",
       "Alaska       43       11      0.4    5.9    30    6.2\n",
       "Arizona     588       91     12.0   33.0    64   65.0\n",
       "Arkanas     640       92     34.0   73.0    51   74.0\n",
       "Calif      4743      952    100.0  118.0    65  105.0\n",
       "Colo        566      109     17.0   73.0    42   78.0\n",
       "Conn        325      167    518.0    5.1    37   95.0\n",
       "Dela        118       30    226.0    3.4    41   20.0\n",
       "DC          115       35  12524.0    0.0    44   23.0\n",
       "Florida    1545      298     91.0   57.0    67  216.0\n",
       "Georgia    1302      203     68.0   83.0    54  162.0\n",
       "Idaho       262       41      8.1   40.0    36   29.0\n",
       "Ill        2207      544    180.0  102.0    33  350.0\n",
       "Ind        1410      254    129.0   89.0    37  196.0\n",
       "Iowa        833      150     49.0  100.0    30  109.0\n",
       "Kansas      669      136     27.0  124.0    42   94.0\n",
       "Kent        911      147     76.0   65.0    44  104.0\n",
       "Louis      1037      146     72.0   40.0    65  109.0\n",
       "Maine      1196       46     31.0   19.0    30   37.0\n",
       "Maryl       616      157    314.0   29.0    44  113.0\n",
       "Mass        766      255    655.0   17.0    37  166.0\n",
       "Mich       2120      403    137.0   95.0    33  306.0\n",
       "Minn        841      189     43.0  110.0    22  132.0\n",
       "Miss        648       85     46.0   59.0    57   77.0\n",
       "Mo         1289      234     63.0  100.0    40  180.0\n",
       "Mont        259       38      4.6   72.0    29   31.0"
      ]
     },
     "execution_count": 41,
     "metadata": {},
     "output_type": "execute_result"
    }
   ],
   "source": [
    "# 観測データを取得\n",
    "df = pd.read_csv(\"./DATA/road.csv\", index_col=0)   # インデックス列は除いて読み込む\n",
    "df"
   ]
  },
  {
   "cell_type": "code",
   "execution_count": 42,
   "metadata": {},
   "outputs": [
    {
     "name": "stderr",
     "output_type": "stream",
     "text": [
      "/Users/Toki/tmp/Twitter_API/venv/lib/python3.6/site-packages/ipykernel_launcher.py:2: FutureWarning: Method .as_matrix will be removed in a future version. Use .values instead.\n",
      "  \n",
      "/Users/Toki/tmp/Twitter_API/venv/lib/python3.6/site-packages/ipykernel_launcher.py:3: FutureWarning: Method .as_matrix will be removed in a future version. Use .values instead.\n",
      "  This is separate from the ipykernel package so we can avoid doing imports until\n"
     ]
    }
   ],
   "source": [
    "# Numpyのarray型へ変換\n",
    "X = df.drop(\"drivers\", axis=1).as_matrix()  # drivers列を除く\n",
    "drivers = df.as_matrix(columns=[\"drivers\"])"
   ]
  },
  {
   "cell_type": "code",
   "execution_count": 43,
   "metadata": {},
   "outputs": [],
   "source": [
    "# マハラノビス=タグチ法\n",
    "X = X / drivers     # 1ドライバー当たりの数値に変換\n",
    "X = np.log(X + 1)   # 対数変換（ボックス=コックス変換）\n",
    "mx = X.mean(axis=0) # 標本平均\n",
    "Xc = X - mx         # 中心化したデータ行列\n",
    "# Sx = (1.0 / len(X)) * Xc.T.dot(Xc) # 標本共分散行列\n",
    "Sx = np.cov(X, rowvar=0, bias=1) # 標本共分散行列\n",
    "a = (Xc.dot(np.linalg.pinv(Sx)) * Xc).sum(axis=1) / X.shape[1]  # 1変数当たりの異常度"
   ]
  },
  {
   "cell_type": "markdown",
   "metadata": {},
   "source": [
    "1変数ごとのマハラノビス距離を計算していきます。\n",
    "閾値の線は\"1\"としています。"
   ]
  },
  {
   "cell_type": "code",
   "execution_count": 44,
   "metadata": {},
   "outputs": [
    {
     "name": "stdout",
     "output_type": "stream",
     "text": [
      "Index(['Alaska', 'Calif', 'Dela', 'DC', 'Maine', 'Mont'], dtype='object')\n",
      "[3.5819906  4.5590257  1.00239092 4.34566837 3.57297596 2.28755737]\n"
     ]
    }
   ],
   "source": [
    "# 閾値を決定\n",
    "# （標本が正常範囲に入るように1変数当たりのマハラノビス距離の閾値を決める）\n",
    "th = 1.0\n",
    "\n",
    "state_label = df.index[a>th]    # 閾値を超えた州の名前リスト\n",
    "state_a = a[a>th]               # 閾値を超えた州の異常度リスト\n",
    "print(state_label)\n",
    "print(state_a)"
   ]
  },
  {
   "cell_type": "markdown",
   "metadata": {},
   "source": [
    "'Alaska', 'Calif', 'DC', 'Maine', 'Mont' の５つの州が顕著に高い異常度となっています。  \n",
    "可視化すると、次のようになります。"
   ]
  },
  {
   "cell_type": "code",
   "execution_count": 45,
   "metadata": {},
   "outputs": [
    {
     "data": {
      "image/png": "[encoded data removed]",
      "text/plain": [
       "<Figure size 432x288 with 1 Axes>"
      ]
     },
     "metadata": {
      "needs_background": "light"
     },
     "output_type": "display_data"
    }
   ],
   "source": [
    "# プロット\n",
    "plt.plot(range(len(a)), a, \"bo\")\n",
    "plt.axhline(y=th,color='red')\n",
    "plt.title(\"Anomaly score\")\n",
    "plt.xlabel(\"Sample number\")\n",
    "plt.ylabel(\"Anomaly score\")\n",
    "plt.show()"
   ]
  },
  {
   "cell_type": "markdown",
   "metadata": {},
   "source": [
    "上記で、「何が悪さをしていたのか」という質問に一応答えることが可能、  \n",
    "と言いましたが、タグチらは次の指標を経験的に導入しています。  \n",
    "$$\n",
    "SN_{q} \\equiv -10log_{10}\\left \\{ \\frac{1}{N^{'}} \\sum_{n=1}^{N^{'}} \\frac{1}{a_{q}(x^{'(n)})/M_{q}} \\right \\}\n",
    "$$\n",
    "これを変数集合$q$に対するSN比(有用性の指標)としています。  \n",
    "ただし、$q$は変数の取捨選択パターンを区別する添字で、$M_{q}$はパターン$q$における変数の数、$a_{q}$はパターン$q$に対応して  \n",
    "$M_{q} \\times M_{q}$次元の共分散行列を使ったときの異常度です。  "
   ]
  },
  {
   "cell_type": "markdown",
   "metadata": {},
   "source": [
    "SN比解析を行うために、$N^{'}=1, M_{q}=1$として各変数のSN比を計算してみます。  \n",
    "この場合のSN比の式は非常に簡単です。  \n",
    "$$\n",
    "SN_{q} = 10log_{10} \\frac{a_{q}(x^{'(n)})}{M_{q}} = 10log_{10} \\frac{(x_{q}^{'}-\\hat \\mu_{q})^{2}}{\\hat \\sigma_{q}^{2}}\n",
    "$$"
   ]
  },
  {
   "cell_type": "markdown",
   "metadata": {},
   "source": [
    "Califのデータを参考にして、見ていきます"
   ]
  },
  {
   "cell_type": "code",
   "execution_count": 48,
   "metadata": {},
   "outputs": [],
   "source": [
    "# SN比解析(上の式のように定義)\n",
    "xc_prime = Xc[4,:]  # 中心化行列からCalifのデータ行を取得\n",
    "SN1 = 10 * np.log10(xc_prime**2 / np.diag(Sx))"
   ]
  },
  {
   "cell_type": "code",
   "execution_count": 49,
   "metadata": {},
   "outputs": [
    {
     "data": {
      "image/png": "[encoded data removed]",
      "text/plain": [
       "<Figure size 432x288 with 1 Axes>"
      ]
     },
     "metadata": {
      "needs_background": "light"
     },
     "output_type": "display_data"
    }
   ],
   "source": [
    "plt.bar(range(len(SN1)), SN1, tick_label=[\"deaths\",\"popden\",\"rural\",\"temp\",\"fuel\"], align=\"center\")\n",
    "plt.title(\"SN ratio\")\n",
    "plt.show()"
   ]
  },
  {
   "cell_type": "markdown",
   "metadata": {},
   "source": [
    "これからわかることは、負のSN比は、平均からの偏差が標準偏差よりも小さい場合場合に生じます。  \n",
    "ということは、\"Calif\"の大きな異常値は、ほとんどすべて'、fuel'が「悪さ」をしていることがわかります。"
   ]
  },
  {
   "cell_type": "markdown",
   "metadata": {},
   "source": [
    "他の、４つの州は下記のようになります。"
   ]
  },
  {
   "cell_type": "code",
   "execution_count": 52,
   "metadata": {},
   "outputs": [
    {
     "data": {
      "image/png": "[encoded data removed]",
      "text/plain": [
       "<Figure size 432x288 with 1 Axes>"
      ]
     },
     "metadata": {
      "needs_background": "light"
     },
     "output_type": "display_data"
    }
   ],
   "source": [
    "### 'Alaska'\n",
    "xc_prime = Xc[1,:]\n",
    "SN1 = 10 * np.log10(xc_prime**2 / np.diag(Sx))\n",
    "plt.bar(range(len(SN1)), SN1, tick_label=[\"deaths\",\"popden\",\"rural\",\"temp\",\"fuel\"], align=\"center\")\n",
    "plt.title(\"SN ratio in Alaska\")\n",
    "plt.show()"
   ]
  },
  {
   "cell_type": "code",
   "execution_count": 53,
   "metadata": {},
   "outputs": [
    {
     "data": {
      "image/png": "[encoded data removed]",
      "text/plain": [
       "<Figure size 432x288 with 1 Axes>"
      ]
     },
     "metadata": {
      "needs_background": "light"
     },
     "output_type": "display_data"
    }
   ],
   "source": [
    "### 'DC'\n",
    "xc_prime = Xc[8,:]\n",
    "SN1 = 10 * np.log10(xc_prime**2 / np.diag(Sx))\n",
    "plt.bar(range(len(SN1)), SN1, tick_label=[\"deaths\",\"popden\",\"rural\",\"temp\",\"fuel\"], align=\"center\")\n",
    "plt.title(\"SN ratio in DC\")\n",
    "plt.show()"
   ]
  },
  {
   "cell_type": "code",
   "execution_count": 54,
   "metadata": {},
   "outputs": [
    {
     "data": {
      "image/png": "[encoded data removed]",
      "text/plain": [
       "<Figure size 432x288 with 1 Axes>"
      ]
     },
     "metadata": {
      "needs_background": "light"
     },
     "output_type": "display_data"
    }
   ],
   "source": [
    "### 'Maine'\n",
    "xc_prime = Xc[-8,:]\n",
    "SN1 = 10 * np.log10(xc_prime**2 / np.diag(Sx))\n",
    "plt.bar(range(len(SN1)), SN1, tick_label=[\"deaths\",\"popden\",\"rural\",\"temp\",\"fuel\"], align=\"center\")\n",
    "plt.title(\"SN ratio in Maine\")\n",
    "plt.show()"
   ]
  },
  {
   "cell_type": "code",
   "execution_count": 55,
   "metadata": {},
   "outputs": [
    {
     "data": {
      "image/png": "[encoded data removed]",
      "text/plain": [
       "<Figure size 432x288 with 1 Axes>"
      ]
     },
     "metadata": {
      "needs_background": "light"
     },
     "output_type": "display_data"
    }
   ],
   "source": [
    "### 'Mont'\n",
    "xc_prime = Xc[-1,:]\n",
    "SN1 = 10 * np.log10(xc_prime**2 / np.diag(Sx))\n",
    "plt.bar(range(len(SN1)), SN1, tick_label=[\"deaths\",\"popden\",\"rural\",\"temp\",\"fuel\"], align=\"center\")\n",
    "plt.title(\"SN ratio in Maine\")\n",
    "plt.show()"
   ]
  },
  {
   "cell_type": "markdown",
   "metadata": {},
   "source": [
    "### 非対称なデータに対する異常検知\n",
    "これまでは、正常データの様子が正規分布、すなわち単一の左右対称の山で表されると仮定して異常検知の方法を考えてきました。  \n",
    "データが普通の正規分布では捉えきれない場合の処方箋を見ていきます。  \n",
    "まずはガンマ分布をみていきます。  \n",
    "  \n",
    "第1回で扱ったDavisデータをもう一度確認してみます。  "
   ]
  },
  {
   "cell_type": "code",
   "execution_count": 57,
   "metadata": {},
   "outputs": [
    {
     "data": {
      "image/png": "[encoded data removed]",
      "text/plain": [
       "<Figure size 720x864 with 1 Axes>"
      ]
     },
     "metadata": {
      "needs_background": "light"
     },
     "output_type": "display_data"
    }
   ],
   "source": [
    "import collections\n",
    "df = pd.read_csv(\"./DATA/Davis.csv\", header=0, index_col=0)\n",
    "# データセットの読み込み\n",
    "num = []\n",
    "data = []\n",
    "with open('./DATA/Davis.csv', 'r', encoding=\"utf-8\") as f:\n",
    "    reader = csv.reader(f)\n",
    "    header = next(reader)\n",
    "\n",
    "    for row in reader:\n",
    "        num.append(int(row[0]))  #標本番号を取得\n",
    "        data.append(int(row[2])) #体重データを取得\n",
    "\n",
    "data_freq = data\n",
    "label = [int((i+1)*5) for i in range(36)]\n",
    "\n",
    "data_new = []\n",
    "for i in range(len(label)):\n",
    "    for j in data_freq:\n",
    "        if j >= label[i] and j<label[i+1]:\n",
    "            data_new.append(label[i])\n",
    "\n",
    "c = collections.Counter(data_new)\n",
    "\n",
    "weight_class = []\n",
    "class_count = []\n",
    "for i, j in c.most_common():\n",
    "    weight_class.append(i)\n",
    "    class_count.append(j)\n",
    "\n",
    "fig = plt.figure(figsize=(10,12))\n",
    "ax = fig.add_subplot(111)\n",
    "ax.grid()\n",
    "ax.bar(weight_class, class_count, width=3, color='blue', )\n",
    "ax.set_title(\"Davis Weight Frequency(per 5kg)\")\n",
    "ax.set_xlabel('Weight')\n",
    "ax.set_ylabel('Frequency')\n",
    "plt.show()"
   ]
  },
  {
   "cell_type": "markdown",
   "metadata": {},
   "source": [
    "体重が大きい方向に、長い尾をもつ左側に偏りのある分布となっています。  \n",
    "これを無理やり左右対称の正規分布に当てはめるのは、少々無理があるように思えます。  \n",
    "  \n",
    "また正規分布は厳密にいうと、$-\\infty$から$\\infty$で定義された確率分布ですが、一般的に、体重はマイナスにはなりません。  \n",
    "この意味でも、やはり正規分布をこのDavisデータに当て込むのは無理があります。  \n",
    "このような状況、つまり「ひと山」ではあるけれど、  \n",
    "正の値しか取らない、分布が左右対称ではない、  \n",
    "という特徴をもつデータに対してはカイ二乗分布、または**ガンマ分布**の当てはめが有効です。"
   ]
  },
  {
   "cell_type": "markdown",
   "metadata": {},
   "source": [
    "### ガンマ分布を表現するための、各種ライブラリの比較"
   ]
  },
  {
   "cell_type": "code",
   "execution_count": 58,
   "metadata": {},
   "outputs": [
    {
     "data": {
      "text/plain": [
       "<matplotlib.axes._subplots.AxesSubplot at 0x124b01518>"
      ]
     },
     "execution_count": 58,
     "metadata": {},
     "output_type": "execute_result"
    },
    {
     "data": {
      "image/png": "[encoded data removed]",
      "text/plain": [
       "<Figure size 432x288 with 1 Axes>"
      ]
     },
     "metadata": {
      "needs_background": "light"
     },
     "output_type": "display_data"
    }
   ],
   "source": [
    "import numpy as np\n",
    "import scipy as sp\n",
    "import pymc3 as pm\n",
    "import matplotlib.pyplot as plt\n",
    "import seaborn as sns\n",
    "\n",
    "shape = 2\n",
    "scale = 2\n",
    "rate = 1 / scale\n",
    "n_sample = 10000\n",
    "\n",
    "xx = np.linspace(0, 20)\n",
    "# ground truth\n",
    "gamma_pdf = sp.stats.gamma(a=shape, scale=scale).pdf\n",
    "\n",
    "s_np = np.random.gamma(shape=shape, scale=scale, size=n_sample)\n",
    "s_sp = sp.stats.gamma(a=shape, scale=scale).rvs(size=n_sample)\n",
    "s_pm = pm.Gamma.dist(alpha=shape, beta=rate).random(size=n_sample)\n",
    "\n",
    "fig, ax = plt.subplots()\n",
    "ax.plot(xx, gamma_pdf(xx), label='truth', lw=2, c='k')\n",
    "sns.kdeplot(s_np, ax=ax, label='numpy', alpha=0.8)\n",
    "sns.kdeplot(s_sp, ax=ax, label='scipy', alpha=0.8)\n",
    "sns.kdeplot(s_pm, ax=ax, label='PyMC3', alpha=0.8)"
   ]
  },
  {
   "cell_type": "markdown",
   "metadata": {},
   "source": [
    "Numpyを利用して、ガンマ分布の表現をいくつか見ると次のようになる"
   ]
  },
  {
   "cell_type": "code",
   "execution_count": 59,
   "metadata": {},
   "outputs": [
    {
     "data": {
      "text/plain": [
       "<matplotlib.axes._subplots.AxesSubplot at 0x124b51320>"
      ]
     },
     "execution_count": 59,
     "metadata": {},
     "output_type": "execute_result"
    },
    {
     "data": {
      "image/png": "[encoded data removed]",
      "text/plain": [
       "<Figure size 432x288 with 1 Axes>"
      ]
     },
     "metadata": {
      "needs_background": "light"
     },
     "output_type": "display_data"
    }
   ],
   "source": [
    "shape1 = 2\n",
    "shape2 = 5\n",
    "shape3 = 7\n",
    "shape4 = 11\n",
    "scale1 = 2\n",
    "scale2 = 3\n",
    "scale3 = 9\n",
    "scale4 = 15\n",
    "n_sample1 = 10000\n",
    "\n",
    "s_np1 = np.random.gamma(shape=shape1, scale=scale1, size=n_sample1)\n",
    "s_np2 = np.random.gamma(shape=shape2, scale=scale2, size=n_sample1)\n",
    "s_np3 = np.random.gamma(shape=shape3, scale=scale3, size=n_sample1)\n",
    "s_np4 = np.random.gamma(shape=shape4, scale=scale4, size=n_sample1)\n",
    "fig, ax = plt.subplots()\n",
    "sns.kdeplot(s_np1, ax=ax, label='gamma1', alpha=0.8)\n",
    "sns.kdeplot(s_np2, ax=ax, label='gamma2', alpha=0.8)\n",
    "sns.kdeplot(s_np3, ax=ax, label='gamma3', alpha=0.8)\n",
    "sns.kdeplot(s_np4, ax=ax, label='gamma4', alpha=0.8)"
   ]
  },
  {
   "cell_type": "markdown",
   "metadata": {},
   "source": [
    "**ガンマ分布による異常検知**\n",
    "1. ステップ1 (分布推定): モーメント法あるいは数値最適化による最尤法によって、ガンマ分布のパラメータを推定する\n",
    "2. ステップ2 (異常度の定義): 新たな観測値$x^{'}$を得るたびに、異常度$a(x^{'})$を計算する。\n",
    "3. ステップ3 (閾値の決定): 訓練データを使ってあらかじめ$\\alpha$パーセントタイルに対応する異常度の値$a_{th}(\\alpha)$を求めておき、$a(x^{'}) > a_{th}(\\alpha)$ならアラート\n",
    "  \n",
    "理論は別で詳細をみていきます。"
   ]
  },
  {
   "cell_type": "code",
   "execution_count": 60,
   "metadata": {},
   "outputs": [
    {
     "name": "stderr",
     "output_type": "stream",
     "text": [
      "/Users/Toki/tmp/Twitter_API/venv/lib/python3.6/site-packages/ipykernel_launcher.py:7: FutureWarning: Method .as_matrix will be removed in a future version. Use .values instead.\n",
      "  import sys\n"
     ]
    }
   ],
   "source": [
    "import pandas as pd\n",
    "import numpy as np\n",
    "from matplotlib import pyplot as plt\n",
    "\n",
    "# データ読み込み\n",
    "df = pd.read_csv(\"./DATA/Davis.csv\")\n",
    "weight = df[\"weight\"].as_matrix()"
   ]
  },
  {
   "cell_type": "code",
   "execution_count": 61,
   "metadata": {},
   "outputs": [],
   "source": [
    "# ガンマ分布における異常度を計算\n",
    "N = len(weight)     # 標本数\n",
    "mu = weight.mean()  # 標本平均\n",
    "si = np.std(weight) # 標準偏差　\n",
    "kmo = (mu / si) ** 2    # モーメント法によるkの推定値\n",
    "smo = (si ** 2) / mu    # モーメント法によるsの推定値"
   ]
  },
  {
   "cell_type": "code",
   "execution_count": 62,
   "metadata": {},
   "outputs": [],
   "source": [
    "a = weight / smo - (kmo - 1) * np.log(weight / smo)    # 異常度"
   ]
  },
  {
   "cell_type": "code",
   "execution_count": 63,
   "metadata": {},
   "outputs": [],
   "source": [
    "sorted_a = np.sort(a)[::-1] # 降順にソート　\n",
    "th = sorted_a[(int(N * 0.01 - 1))]  # 異常度の上位1%分位点に置ける異常度"
   ]
  },
  {
   "cell_type": "code",
   "execution_count": 64,
   "metadata": {},
   "outputs": [
    {
     "data": {
      "image/png": "[encoded data removed]",
      "text/plain": [
       "<Figure size 432x288 with 1 Axes>"
      ]
     },
     "metadata": {
      "needs_background": "light"
     },
     "output_type": "display_data"
    }
   ],
   "source": [
    "# プロット\n",
    "plt.plot(range(len(a)), a, \"bo\")\n",
    "plt.axhline(y=th,color='red')\n",
    "plt.title(\"Anomaly score\")\n",
    "plt.xlabel(\"Sample number\")\n",
    "plt.ylabel(\"Anomaly score\")\n",
    "plt.show()"
   ]
  },
  {
   "cell_type": "markdown",
   "metadata": {},
   "source": [
    "今回のDavisデータでは大きく差があるとは言えませんが、\n",
    "とはいえ、異常と判定されるデータ点は異なります。  \n",
    "「分布をより正確に捉えることが、異常検知の精度を向上させる」という仮定のもとで言えば、ガンマ分布による異常検知は良い、となります。  "
   ]
  },
  {
   "cell_type": "markdown",
   "metadata": {},
   "source": [
    "今回は以上となります。"
   ]
  }
 ],
 "metadata": {
  "kernelspec": {
   "display_name": "Python 3",
   "language": "python",
   "name": "python3"
  },
  "language_info": {
   "codemirror_mode": {
    "name": "ipython",
    "version": 3
   },
   "file_extension": ".py",
   "mimetype": "text/x-python",
   "name": "python",
   "nbconvert_exporter": "python",
   "pygments_lexer": "ipython3",
   "version": "3.6.5"
  }
 },
 "nbformat": 4,
 "nbformat_minor": 2
}
